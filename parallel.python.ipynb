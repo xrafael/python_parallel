{
 "cells": [
  {
   "cell_type": "code",
   "execution_count": 1,
   "metadata": {},
   "outputs": [],
   "source": [
    "#Python (Basics)"
   ]
  },
  {
   "cell_type": "code",
   "execution_count": 64,
   "metadata": {},
   "outputs": [],
   "source": [
    "import numpy as np\n",
    "from time import time\n",
    "import multiprocessing as mp"
   ]
  },
  {
   "cell_type": "code",
   "execution_count": 65,
   "metadata": {},
   "outputs": [],
   "source": [
    "def howmany_within_range(row, minimum=4, maximum=8):\n",
    "    \"\"\"Returns how many numbers lie within `maximum` and `minimum` in a given `row`\"\"\"\n",
    "    count = 0\n",
    "    for n in row:\n",
    "        if minimum <= n <= maximum:\n",
    "            count = count + 1\n",
    "    return count"
   ]
  },
  {
   "cell_type": "code",
   "execution_count": 66,
   "metadata": {},
   "outputs": [
    {
     "name": "stdout",
     "output_type": "stream",
     "text": [
      "(5000, 10000) 5000\n"
     ]
    }
   ],
   "source": [
    "# Prepare data\n",
    "np.random.RandomState(100)\n",
    "arr = np.random.randint(0, 10, size=[5000, 10000])\n",
    "data = arr.tolist()\n",
    "print(arr.shape, len(data))"
   ]
  },
  {
   "cell_type": "code",
   "execution_count": 67,
   "metadata": {},
   "outputs": [
    {
     "name": "stdout",
     "output_type": "stream",
     "text": [
      "3.261914014816284\n",
      "[4885, 5038, 4934, 5071, 4963]\n"
     ]
    }
   ],
   "source": [
    "# Solution Without Paralleization\n",
    "ini = time()\n",
    "results = []\n",
    "for row in data:\n",
    "    results.append(howmany_within_range(row, minimum=4, maximum=8))\n",
    "print(time() - ini)\n",
    "print(results[:5])"
   ]
  },
  {
   "cell_type": "code",
   "execution_count": 68,
   "metadata": {},
   "outputs": [
    {
     "data": {
      "text/plain": [
       "'\\nParallelism consists of performing *multiple operations* at the same time. \\nMultiprocessing entails spreading tasks over a computer’s central \\nprocessing units (CPUs, or cores). Multiprocessing is well-suited for \\nCPU-bound tasks: tightly bound for loops and mathematical computations usually fall into this category.\\n'"
      ]
     },
     "execution_count": 68,
     "metadata": {},
     "output_type": "execute_result"
    }
   ],
   "source": [
    "#Parallelization\n",
    "\"\"\"\n",
    "Parallelism consists of performing *multiple operations* at the same time. \n",
    "Multiprocessing entails spreading tasks over a computer’s central \n",
    "processing units (CPUs, or cores). Multiprocessing is well-suited for \n",
    "CPU-bound tasks: tightly bound for loops and mathematical computations usually fall into this category.\n",
    "\"\"\""
   ]
  },
  {
   "cell_type": "code",
   "execution_count": 69,
   "metadata": {},
   "outputs": [
    {
     "name": "stdout",
     "output_type": "stream",
     "text": [
      "Num cpu's: 40\n"
     ]
    }
   ],
   "source": [
    "print(\"Num cpu's:\", mp.cpu_count())"
   ]
  },
  {
   "cell_type": "code",
   "execution_count": 70,
   "metadata": {},
   "outputs": [
    {
     "name": "stdout",
     "output_type": "stream",
     "text": [
      "2.7608766555786133\n",
      "[4885, 5038, 4934, 5071, 4963]\n"
     ]
    }
   ],
   "source": [
    "#Pool + map\n",
    "ini = time()\n",
    "pool = mp.Pool(3)\n",
    "results = pool.map(howmany_within_range, [row for row in data])\n",
    "pool.close()\n",
    "\n",
    "print(time() - ini)\n",
    "print(results[:5])"
   ]
  },
  {
   "cell_type": "code",
   "execution_count": 73,
   "metadata": {},
   "outputs": [],
   "source": [
    "#JobLib\n",
    "from joblib import Parallel, delayed"
   ]
  },
  {
   "cell_type": "code",
   "execution_count": 74,
   "metadata": {},
   "outputs": [
    {
     "name": "stdout",
     "output_type": "stream",
     "text": [
      "3.0009326934814453\n",
      "[4885, 5038, 4934, 5071, 4963]\n"
     ]
    }
   ],
   "source": [
    "ini = time()\n",
    "Parallel(n_jobs=3, backend=\"multiprocessing\")(delayed(howmany_within_range)(row) for row in data)\n",
    "print(time() - ini)\n",
    "print(results[:5])"
   ]
  },
  {
   "cell_type": "code",
   "execution_count": 23,
   "metadata": {},
   "outputs": [],
   "source": [
    "#Asynchronism"
   ]
  },
  {
   "cell_type": "code",
   "execution_count": null,
   "metadata": {},
   "outputs": [],
   "source": [
    "\"\"\"\n",
    "When you execute something synchronously, you wait for it to finish before moving on to another task. When you \n",
    "execute something asynchronously, you can move on to another task before it finishes.\n",
    "\"\"\""
   ]
  },
  {
   "cell_type": "code",
   "execution_count": 84,
   "metadata": {},
   "outputs": [
    {
     "name": "stdout",
     "output_type": "stream",
     "text": [
      "3.0649795532226562\n",
      "[4885, 5038, 4934, 5071, 4963]\n"
     ]
    }
   ],
   "source": [
    "#Pool + apply_async\n",
    "ini = time()\n",
    "pool = mp.Pool(3)\n",
    "results = [pool.apply_async(howmany_within_range, args=(row, 4, 8)) for row in data]\n",
    "pool.close() \n",
    "pool.join()\n",
    "\n",
    "print(time() - ini)\n",
    "print([results[i].get() for i in range(5)])"
   ]
  },
  {
   "cell_type": "code",
   "execution_count": null,
   "metadata": {},
   "outputs": [],
   "source": []
  }
 ],
 "metadata": {
  "kernelspec": {
   "display_name": "Python 3",
   "language": "python",
   "name": "python3"
  },
  "language_info": {
   "codemirror_mode": {
    "name": "ipython",
    "version": 3
   },
   "file_extension": ".py",
   "mimetype": "text/x-python",
   "name": "python",
   "nbconvert_exporter": "python",
   "pygments_lexer": "ipython3",
   "version": "3.6.13"
  }
 },
 "nbformat": 4,
 "nbformat_minor": 2
}
