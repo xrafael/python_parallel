{
 "cells": [
  {
   "cell_type": "code",
   "execution_count": 1,
   "metadata": {},
   "outputs": [],
   "source": [
    "#Python (Numba)"
   ]
  },
  {
   "cell_type": "code",
   "execution_count": null,
   "metadata": {},
   "outputs": [],
   "source": [
    "\"\"\"\n",
    "Numba is a just-in-time compiler of Python functions. \n",
    "It translates a Python function when it is called into a machine code \n",
    "equivalent that runs anywhere from 2x (simple NumPy operations) \n",
    "to 100x (complex Python loops) faster.\n",
    "\n",
    "Numba-compiled numerical algorithms in Python can approach the speeds \n",
    "of C or FORTRAN.\n",
    "\"\"\""
   ]
  },
  {
   "cell_type": "code",
   "execution_count": 5,
   "metadata": {},
   "outputs": [],
   "source": [
    "import numpy as np\n",
    "from time import time\n",
    "import numba\n",
    "from numba import jit"
   ]
  },
  {
   "cell_type": "code",
   "execution_count": 18,
   "metadata": {},
   "outputs": [],
   "source": [
    "@jit(nopython=True)\n",
    "def howmany_within_range(data, minimum=4, maximum=8):\n",
    "    \"\"\"Returns how many numbers lie within `maximum` and `minimum` in a given `row`\"\"\"\n",
    "    results = []\n",
    "    for row in data:\n",
    "        count = 0\n",
    "        for n in row:\n",
    "            if minimum <= n <= maximum:\n",
    "                count = count + 1\n",
    "        results.append(count)\n",
    "    return results"
   ]
  },
  {
   "cell_type": "code",
   "execution_count": 13,
   "metadata": {},
   "outputs": [
    {
     "name": "stdout",
     "output_type": "stream",
     "text": [
      "(5000, 10000) 5000\n"
     ]
    }
   ],
   "source": [
    "# Prepare data\n",
    "np.random.RandomState(100)\n",
    "arr = np.random.randint(0, 10, size=[5000, 10000])\n",
    "print(arr.shape, len(arr))"
   ]
  },
  {
   "cell_type": "code",
   "execution_count": 56,
   "metadata": {},
   "outputs": [
    {
     "name": "stdout",
     "output_type": "stream",
     "text": [
      "0.04333949089050293\n",
      "[5022, 4936, 4936, 5029, 5009]\n"
     ]
    }
   ],
   "source": [
    "# Solution Without Paralleization\n",
    "ini = time()\n",
    "res = howmany_within_range(arr, minimum=4, maximum=8)\n",
    "print(time() - ini)\n",
    "print(res[:5])"
   ]
  },
  {
   "cell_type": "code",
   "execution_count": 57,
   "metadata": {},
   "outputs": [],
   "source": [
    "#Parallelization"
   ]
  },
  {
   "cell_type": "code",
   "execution_count": 62,
   "metadata": {},
   "outputs": [],
   "source": [
    "@jit(nopython=True, parallel=True)\n",
    "def howmany_within_range_1(data, minimum=4, maximum=8):\n",
    "    \"\"\"Returns how many numbers lie within `maximum` and `minimum` in a given `row`\"\"\"\n",
    "    count = 0\n",
    "    for n in data:\n",
    "        if minimum <= n <= maximum:\n",
    "            count = count + 1\n",
    "    return count"
   ]
  },
  {
   "cell_type": "code",
   "execution_count": 63,
   "metadata": {},
   "outputs": [
    {
     "name": "stdout",
     "output_type": "stream",
     "text": [
      "0.14116597175598145\n",
      "[5022, 4936, 4936, 5029, 5009]\n"
     ]
    },
    {
     "name": "stderr",
     "output_type": "stream",
     "text": [
      "/homedtic/jrafael/anaconda3/envs/deeplung/lib/python3.6/site-packages/numba/core/typed_passes.py:327: NumbaPerformanceWarning: \u001b[1m\n",
      "The keyword argument 'parallel=True' was specified but no transformation for parallel execution was possible.\n",
      "\n",
      "To find out why, try turning on parallel diagnostics, see https://numba.pydata.org/numba-doc/latest/user/parallel.html#diagnostics for help.\n",
      "\u001b[1m\n",
      "File \"<ipython-input-62-ac538f4f6495>\", line 2:\u001b[0m\n",
      "\u001b[1m@jit(nopython=True, parallel=True)\n",
      "\u001b[1mdef howmany_within_range_1(data, minimum=4, maximum=8):\n",
      "\u001b[0m\u001b[1m^\u001b[0m\u001b[0m\n",
      "\u001b[0m\n",
      "  state.func_ir.loc))\n"
     ]
    }
   ],
   "source": [
    "# Solution With Paralleization\n",
    "ini = time()\n",
    "res = [howmany_within_range_1(a, minimum=4, maximum=8) for a in arr]\n",
    "print(time() - ini)\n",
    "print(res[:5])"
   ]
  },
  {
   "cell_type": "code",
   "execution_count": null,
   "metadata": {},
   "outputs": [],
   "source": []
  }
 ],
 "metadata": {
  "kernelspec": {
   "display_name": "Python 3",
   "language": "python",
   "name": "python3"
  },
  "language_info": {
   "codemirror_mode": {
    "name": "ipython",
    "version": 3
   },
   "file_extension": ".py",
   "mimetype": "text/x-python",
   "name": "python",
   "nbconvert_exporter": "python",
   "pygments_lexer": "ipython3",
   "version": "3.6.13"
  }
 },
 "nbformat": 4,
 "nbformat_minor": 2
}
